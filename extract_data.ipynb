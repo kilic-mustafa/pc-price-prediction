{
 "cells": [
  {
   "metadata": {},
   "cell_type": "markdown",
   "source": "# PC PREDICTION APP",
   "id": "e21beec07d8dddf1"
  },
  {
   "metadata": {
    "ExecuteTime": {
     "end_time": "2025-06-16T12:37:54.900847Z",
     "start_time": "2025-06-16T12:37:54.885178Z"
    }
   },
   "cell_type": "code",
   "source": [
    "import os\n",
    "import numpy as np\n",
    "import pandas as pd"
   ],
   "id": "7d4e26b464b5bc06",
   "outputs": [],
   "execution_count": 581
  },
  {
   "metadata": {
    "ExecuteTime": {
     "end_time": "2025-06-16T12:37:54.938720Z",
     "start_time": "2025-06-16T12:37:54.923244Z"
    }
   },
   "cell_type": "code",
   "source": [
    "files = os.listdir(\"incehesap\")\n",
    "df = pd.concat([pd.read_csv(f\"incehesap/{file}\") for file in files], ignore_index=True)"
   ],
   "id": "dc9908e43cf5e8b0",
   "outputs": [],
   "execution_count": 582
  },
  {
   "metadata": {
    "ExecuteTime": {
     "end_time": "2025-06-16T12:37:54.970666Z",
     "start_time": "2025-06-16T12:37:54.954559Z"
    }
   },
   "cell_type": "code",
   "source": "print(df.info)",
   "id": "f90bb85ffe4a46e6",
   "outputs": [
    {
     "name": "stdout",
     "output_type": "stream",
     "text": [
      "<bound method DataFrame.info of                                     aspect-square href  \\\n",
      "0    https://www.incehesap.com/asus-vivobook-15-x15...   \n",
      "1    https://www.incehesap.com/asus-vivobook-15-x15...   \n",
      "2    https://www.incehesap.com/lenovo-v15-g4-82yy00...   \n",
      "3    https://www.incehesap.com/lenovo-v15-g3-82tv00...   \n",
      "4    https://www.incehesap.com/lenovo-loq-83gs00pht...   \n",
      "..                                                 ...   \n",
      "344  https://www.incehesap.com/lenovo-thinkbook-16p...   \n",
      "345  https://www.incehesap.com/lenovo-thinkpad-l15-...   \n",
      "346  https://www.incehesap.com/lenovo-v15-g3-82tv00...   \n",
      "347  https://www.incehesap.com/acer-extensa-15-ex21...   \n",
      "348  https://www.incehesap.com/acer-nitro-5-an515-4...   \n",
      "\n",
      "                                     aspect-square src  \\\n",
      "0    https://www.incehesap.com/resim/urun/202504/67...   \n",
      "1    https://www.incehesap.com/resim/urun/202504/67...   \n",
      "2    https://www.incehesap.com/resim/urun/202503/67...   \n",
      "3    https://www.incehesap.com/resim/urun/202503/67...   \n",
      "4    https://www.incehesap.com/resim/urun/202503/67...   \n",
      "..                                                 ...   \n",
      "344  https://www.incehesap.com/resim/urun/202405/66...   \n",
      "345  https://www.incehesap.com/resim/urun/202405/66...   \n",
      "346  https://www.incehesap.com/resim/urun/202405/66...   \n",
      "347  https://www.incehesap.com/resim/urun/202305/64...   \n",
      "348  https://www.incehesap.com/resim/urun/202303/64...   \n",
      "\n",
      "                                       overflow-hidden        text-xs  \\\n",
      "0    ASUS Vivobook 15 X1504VA-NJ2405 IH6 i5-1334U 4...  Intel Core i5   \n",
      "1    ASUS Vivobook 15 X1504VA-NJ2405 IH1 i5-1334U 1...  Intel Core i5   \n",
      "2    Lenovo V15 G4 82YY0013TR IH5 Ryzen 7 7730U 40G...    AMD Ryzen 7   \n",
      "3    Lenovo V15 G3 82TV009CTX IH1 Ryzen 7 5825U 16G...    AMD Ryzen 7   \n",
      "4    Lenovo  LOQ 83GS00PHTR IH5 i5-12450HX 32GB 512...  INTEL Core İ5   \n",
      "..                                                 ...            ...   \n",
      "344  Lenovo ThinkBook 16p G4 21J80032TR i7-13700H 3...  Intel Core i7   \n",
      "345  Lenovo ThinkPad L15 21C7002LTX G3 Ryzen 7 Pro ...    AMD Ryzen 7   \n",
      "346  Lenovo V15 G3 82TV004MTX Ryzen7-5825U 16GB 512...    AMD Ryzen 7   \n",
      "347  Acer Extensa 15 EX215-54-57KW NX.EGJEY.006 i5-...  Intel Core i5   \n",
      "348  Acer Nitro 5 AN515-46-R6KM NH.QGXEY.005 Ryzen ...    AMD Ryzen 5   \n",
      "\n",
      "         text-xs 2                text-xs 3   text-xs 4  \\\n",
      "0            40 GB       Intel UHD Graphics        1 TB   \n",
      "1            16 GB       Intel UHD Graphics  512 GB SSD   \n",
      "2            40 GB      AMD Radeon Graphics     1TB SSD   \n",
      "3            16 GB      AMD Radeon Graphics     1TB SSD   \n",
      "4            32 GB  Nvidia GeForce RTX 4060  512 GB SSD   \n",
      "..             ...                      ...         ...   \n",
      "344          32 GB  Nvidia GeForce RTX 4060     1TB SSD   \n",
      "345          16 GB      AMD Radeon Graphics  512 GB SSD   \n",
      "346          16 GB      AMD Radeon Graphics  512 GB SSD   \n",
      "347          16 GB   Intel Iris Xe Graphics  512 GB SSD   \n",
      "348  8 GB 4800 Mhz   Nvidia GeForce RTX3050  512 GB SSD   \n",
      "\n",
      "                          text-xs 5   text-2xl                   text-xs 6  \\\n",
      "0      24 Ay Asus Türkiye Garantili  18.599 TL  12 aya varan taksit imkânı   \n",
      "1      24 Ay Asus Türkiye Garantili  24.009 TL  12 aya varan taksit imkânı   \n",
      "2    24 Ay Lenovo Türkiye Garantili  19.799 TL  12 aya varan taksit imkânı   \n",
      "3    24 Ay Lenovo Türkiye Garantili  17.649 TL  12 aya varan taksit imkânı   \n",
      "4                   24 Ay Garantili  37.449 TL  12 aya varan taksit imkânı   \n",
      "..                              ...        ...                         ...   \n",
      "344  24 Ay Lenovo Türkiye Garantili        NaN                         NaN   \n",
      "345  24 Ay Lenovo Türkiye Garantili        NaN                         NaN   \n",
      "346                 24 Ay Garantili        NaN                         NaN   \n",
      "347    24 Ay Acer Türkiye Garantili        NaN                         NaN   \n",
      "348    24 Ay Acer Türkiye Garantili        NaN                         NaN   \n",
      "\n",
      "          flex                                          flex href  \\\n",
      "0    Ürüne Git  https://www.incehesap.com/asus-vivobook-15-x15...   \n",
      "1    Ürüne Git  https://www.incehesap.com/asus-vivobook-15-x15...   \n",
      "2    Ürüne Git  https://www.incehesap.com/lenovo-v15-g4-82yy00...   \n",
      "3    Ürüne Git  https://www.incehesap.com/lenovo-v15-g3-82tv00...   \n",
      "4    Ürüne Git  https://www.incehesap.com/lenovo-loq-83gs00pht...   \n",
      "..         ...                                                ...   \n",
      "344        NaN                                                NaN   \n",
      "345        NaN                                                NaN   \n",
      "346        NaN                                                NaN   \n",
      "347        NaN                                                NaN   \n",
      "348        NaN                                                NaN   \n",
      "\n",
      "                       !ml-0  \n",
      "0                        NaN  \n",
      "1                        NaN  \n",
      "2                        NaN  \n",
      "3                        NaN  \n",
      "4                        NaN  \n",
      "..                       ...  \n",
      "344  Stoğa gelince haber ver  \n",
      "345  Stoğa gelince haber ver  \n",
      "346  Stoğa gelince haber ver  \n",
      "347  Stoğa gelince haber ver  \n",
      "348  Stoğa gelince haber ver  \n",
      "\n",
      "[349 rows x 13 columns]>\n"
     ]
    }
   ],
   "execution_count": 583
  },
  {
   "metadata": {
    "ExecuteTime": {
     "end_time": "2025-06-16T12:37:55.006374Z",
     "start_time": "2025-06-16T12:37:54.986465Z"
    }
   },
   "cell_type": "code",
   "source": "print(df.columns)",
   "id": "4fbaf6b8582c276b",
   "outputs": [
    {
     "name": "stdout",
     "output_type": "stream",
     "text": [
      "Index(['aspect-square href', 'aspect-square src', 'overflow-hidden', 'text-xs',\n",
      "       'text-xs 2', 'text-xs 3', 'text-xs 4', 'text-xs 5', 'text-2xl',\n",
      "       'text-xs 6', 'flex', 'flex href', '!ml-0'],\n",
      "      dtype='object')\n"
     ]
    }
   ],
   "execution_count": 584
  },
  {
   "metadata": {
    "ExecuteTime": {
     "end_time": "2025-06-16T12:37:55.054290Z",
     "start_time": "2025-06-16T12:37:55.037882Z"
    }
   },
   "cell_type": "code",
   "source": [
    "def drop_columns(df, cols):\n",
    "    \"\"\"\n",
    "    This function removes the columns from a DataFrame.\n",
    "    :param df:\n",
    "    :param cols:\n",
    "    :return:\n",
    "    \"\"\"\n",
    "\n",
    "    for col in cols:\n",
    "        try:\n",
    "            df.drop(col, axis = 1, inplace=True)\n",
    "        except Exception as e:\n",
    "            print(f\"An error has occured : {e}\")"
   ],
   "id": "10460530e1b7b9fc",
   "outputs": [],
   "execution_count": 585
  },
  {
   "metadata": {
    "ExecuteTime": {
     "end_time": "2025-06-16T12:37:55.088861Z",
     "start_time": "2025-06-16T12:37:55.073400Z"
    }
   },
   "cell_type": "code",
   "source": [
    "cols = ['aspect-square href', 'aspect-square src', 'text-xs 5',\n",
    "       'text-xs 6', 'flex', 'flex href', '!ml-0']\n",
    "drop_columns(df,cols)"
   ],
   "id": "e4359aa7994353b4",
   "outputs": [],
   "execution_count": 586
  },
  {
   "metadata": {
    "ExecuteTime": {
     "end_time": "2025-06-16T12:37:55.119921Z",
     "start_time": "2025-06-16T12:37:55.106909Z"
    }
   },
   "cell_type": "code",
   "source": "print(df.info)",
   "id": "b6aa82f87ee9a3a0",
   "outputs": [
    {
     "name": "stdout",
     "output_type": "stream",
     "text": [
      "<bound method DataFrame.info of                                        overflow-hidden        text-xs  \\\n",
      "0    ASUS Vivobook 15 X1504VA-NJ2405 IH6 i5-1334U 4...  Intel Core i5   \n",
      "1    ASUS Vivobook 15 X1504VA-NJ2405 IH1 i5-1334U 1...  Intel Core i5   \n",
      "2    Lenovo V15 G4 82YY0013TR IH5 Ryzen 7 7730U 40G...    AMD Ryzen 7   \n",
      "3    Lenovo V15 G3 82TV009CTX IH1 Ryzen 7 5825U 16G...    AMD Ryzen 7   \n",
      "4    Lenovo  LOQ 83GS00PHTR IH5 i5-12450HX 32GB 512...  INTEL Core İ5   \n",
      "..                                                 ...            ...   \n",
      "344  Lenovo ThinkBook 16p G4 21J80032TR i7-13700H 3...  Intel Core i7   \n",
      "345  Lenovo ThinkPad L15 21C7002LTX G3 Ryzen 7 Pro ...    AMD Ryzen 7   \n",
      "346  Lenovo V15 G3 82TV004MTX Ryzen7-5825U 16GB 512...    AMD Ryzen 7   \n",
      "347  Acer Extensa 15 EX215-54-57KW NX.EGJEY.006 i5-...  Intel Core i5   \n",
      "348  Acer Nitro 5 AN515-46-R6KM NH.QGXEY.005 Ryzen ...    AMD Ryzen 5   \n",
      "\n",
      "         text-xs 2                text-xs 3   text-xs 4   text-2xl  \n",
      "0            40 GB       Intel UHD Graphics        1 TB  18.599 TL  \n",
      "1            16 GB       Intel UHD Graphics  512 GB SSD  24.009 TL  \n",
      "2            40 GB      AMD Radeon Graphics     1TB SSD  19.799 TL  \n",
      "3            16 GB      AMD Radeon Graphics     1TB SSD  17.649 TL  \n",
      "4            32 GB  Nvidia GeForce RTX 4060  512 GB SSD  37.449 TL  \n",
      "..             ...                      ...         ...        ...  \n",
      "344          32 GB  Nvidia GeForce RTX 4060     1TB SSD        NaN  \n",
      "345          16 GB      AMD Radeon Graphics  512 GB SSD        NaN  \n",
      "346          16 GB      AMD Radeon Graphics  512 GB SSD        NaN  \n",
      "347          16 GB   Intel Iris Xe Graphics  512 GB SSD        NaN  \n",
      "348  8 GB 4800 Mhz   Nvidia GeForce RTX3050  512 GB SSD        NaN  \n",
      "\n",
      "[349 rows x 6 columns]>\n"
     ]
    }
   ],
   "execution_count": 587
  },
  {
   "metadata": {
    "ExecuteTime": {
     "end_time": "2025-06-16T12:37:55.185742Z",
     "start_time": "2025-06-16T12:37:55.149541Z"
    }
   },
   "cell_type": "code",
   "source": [
    "df['feature'] = df['overflow-hidden'].apply(lambda x: x.split(\" \"))\n",
    "df['brand'] = df['feature'].str[0]"
   ],
   "id": "7934001bdfe28dce",
   "outputs": [],
   "execution_count": 588
  },
  {
   "metadata": {
    "ExecuteTime": {
     "end_time": "2025-06-16T12:37:55.238940Z",
     "start_time": "2025-06-16T12:37:55.225945Z"
    }
   },
   "cell_type": "code",
   "source": "drop_columns(df, ['feature', 'overflow-hidden'])",
   "id": "ffa2d4f83e12975a",
   "outputs": [],
   "execution_count": 589
  },
  {
   "metadata": {
    "ExecuteTime": {
     "end_time": "2025-06-16T12:37:55.271051Z",
     "start_time": "2025-06-16T12:37:55.257934Z"
    }
   },
   "cell_type": "code",
   "source": "print(df.info())",
   "id": "62f0453bb9d601bd",
   "outputs": [
    {
     "name": "stdout",
     "output_type": "stream",
     "text": [
      "<class 'pandas.core.frame.DataFrame'>\n",
      "RangeIndex: 349 entries, 0 to 348\n",
      "Data columns (total 6 columns):\n",
      " #   Column     Non-Null Count  Dtype \n",
      "---  ------     --------------  ----- \n",
      " 0   text-xs    349 non-null    object\n",
      " 1   text-xs 2  349 non-null    object\n",
      " 2   text-xs 3  349 non-null    object\n",
      " 3   text-xs 4  349 non-null    object\n",
      " 4   text-2xl   241 non-null    object\n",
      " 5   brand      349 non-null    object\n",
      "dtypes: object(6)\n",
      "memory usage: 16.5+ KB\n",
      "None\n"
     ]
    }
   ],
   "execution_count": 590
  },
  {
   "metadata": {
    "ExecuteTime": {
     "end_time": "2025-06-16T12:37:55.332128Z",
     "start_time": "2025-06-16T12:37:55.316248Z"
    }
   },
   "cell_type": "code",
   "source": "print(df[[\"brand\"]].sample(50))",
   "id": "261a47dc62cffa89",
   "outputs": [
    {
     "name": "stdout",
     "output_type": "stream",
     "text": [
      "               brand\n",
      "176             Dell\n",
      "250           Quadro\n",
      "288              MSI\n",
      "237              MSI\n",
      "51          GIGABYTE\n",
      "344           Lenovo\n",
      "116             ASUS\n",
      "347             Acer\n",
      "190           Lenovo\n",
      "217           Lenovo\n",
      "59            LENOVO\n",
      "38     Asus Vivobook\n",
      "239              MSI\n",
      "308               HP\n",
      "282           Lenovo\n",
      "302               HP\n",
      "151           Lenovo\n",
      "300              MSI\n",
      "290               HP\n",
      "180               HP\n",
      "231           Lenovo\n",
      "23                HP\n",
      "24                HP\n",
      "126           Lenovo\n",
      "97                HP\n",
      "128           Lenovo\n",
      "88                HP\n",
      "210               HP\n",
      "166               HP\n",
      "139           Lenovo\n",
      "57            LENOVO\n",
      "171       Lenovo LOQ\n",
      "339               HP\n",
      "336           Lenovo\n",
      "280           Lenovo\n",
      "242              MSI\n",
      "329               HP\n",
      "274              MSI\n",
      "342              MSI\n",
      "214           Lenovo\n",
      "338           Lenovo\n",
      "230              MSI\n",
      "100               HP\n",
      "307               HP\n",
      "78                HP\n",
      "304               HP\n",
      "41   Asus Vivobook16\n",
      "118             Dell\n",
      "332               HP\n",
      "191           Lenovo\n"
     ]
    }
   ],
   "execution_count": 591
  },
  {
   "metadata": {
    "ExecuteTime": {
     "end_time": "2025-06-16T12:37:55.381469Z",
     "start_time": "2025-06-16T12:37:55.361639Z"
    }
   },
   "cell_type": "code",
   "source": "print(df[\"brand\"].unique())\n",
   "id": "674af7a9a9bc130f",
   "outputs": [
    {
     "name": "stdout",
     "output_type": "stream",
     "text": [
      "['ASUS' 'Lenovo' 'Lenovo\\xa0' 'Lenovo\\xa0LOQ' 'MSI' 'HP' 'Asus'\n",
      " 'Asus\\xa0Vivobook' 'Asus\\xa0Vivobook16' 'GIGABYTE' 'LENOVO' 'DELL' 'Dell'\n",
      " 'Quadro' 'Hp' 'Technopc' 'Acer']\n"
     ]
    }
   ],
   "execution_count": 592
  },
  {
   "metadata": {
    "ExecuteTime": {
     "end_time": "2025-06-16T12:37:55.412135Z",
     "start_time": "2025-06-16T12:37:55.398447Z"
    }
   },
   "cell_type": "code",
   "source": [
    "replace_dict = {\n",
    "    'ASUS': 'Asus',\n",
    "    'Asus\\xa0Vivobook': 'Asus',\n",
    "    'Asus\\xa0Vivobook16': 'Asus',\n",
    "    'LENOVO': 'Lenovo',\n",
    "    'Lenovo\\xa0LOQ': 'Lenovo',\n",
    "    'Lenovo\\xa0': 'Lenovo',\n",
    "    'DELL': 'Dell',\n",
    "    'HP': 'Hp',\n",
    "}\n",
    "df['brand'] = df['brand'].replace(replace_dict.keys(), replace_dict.values()).astype(str)\n",
    "df['brand'].dropna(inplace=True)\n",
    "df['brand'].unique()"
   ],
   "id": "8867dff8cfaf365",
   "outputs": [
    {
     "data": {
      "text/plain": [
       "array(['Asus', 'Lenovo', 'MSI', 'Hp', 'GIGABYTE', 'Dell', 'Quadro',\n",
       "       'Technopc', 'Acer'], dtype=object)"
      ]
     },
     "execution_count": 593,
     "metadata": {},
     "output_type": "execute_result"
    }
   ],
   "execution_count": 593
  },
  {
   "metadata": {
    "ExecuteTime": {
     "end_time": "2025-06-16T12:37:55.450003Z",
     "start_time": "2025-06-16T12:37:55.430134Z"
    }
   },
   "cell_type": "code",
   "source": "print(df['text-xs'].unique())",
   "id": "2c0bcf6f9c6fd122",
   "outputs": [
    {
     "name": "stdout",
     "output_type": "stream",
     "text": [
      "['Intel Core i5' 'AMD Ryzen 7' 'INTEL Core İ5' 'i5-13420H'\n",
      " 'Intel Core i5-13450HX' 'Intel Core i7-14650HX' 'Intel Core i5‑210H'\n",
      " 'Intel Core Ultra 7' 'INTEL™' 'Intel Core i7' 'Intel Core Ultra 9'\n",
      " 'AMD Ryzen 9' 'Intel Core Ultra 5' 'AMD' 'AMD Ryzen 5' 'INTEL Core™ i7'\n",
      " 'INTEL Core™ i5' 'Intel Core i9' 'INTEL Core™ i3' 'Intel Ultra Serisi'\n",
      " 'Intel Core i3' 'Ryzen AI 9 365' 'i7-13620H' 'AMD Ryzen 7 PRO'\n",
      " 'INTEL Core İ7' 'AMD Ryzen 5 6600U' 'INTEL Celeron'\n",
      " 'Intel Core Ultra 7 155H' 'Intel Core Ultra 5 135H' 'AMD Ryzen 5 7530U']\n"
     ]
    }
   ],
   "execution_count": 594
  },
  {
   "metadata": {
    "ExecuteTime": {
     "end_time": "2025-06-16T12:37:55.499856Z",
     "start_time": "2025-06-16T12:37:55.481108Z"
    }
   },
   "cell_type": "code",
   "source": [
    "replace_dict = {\n",
    "    'i5-13420H': 'Intel Core i5',\n",
    "    'i7-13620H': 'Intel Core i7',\n",
    "    'INTEL Core İ5': 'Intel Core i5',\n",
    "    'Intel Core i5-13450HX': 'Intel Core i5',\n",
    "    'Intel Core i7-14650HX': 'Intel Core i7',\n",
    "    'Intel Core i5‑210H': 'Intel Core i5',\n",
    "    'INTEL Core™ i7': 'Intel Core i7',\n",
    "    'INTEL Core™ i5': 'Intel Core i5',\n",
    "    'INTEL Core™ i3': 'Intel Core i3',\n",
    "    'Ryzen AI 9 365': 'AMD Ryzen AI 9',\n",
    "    'INTEL Core İ7': 'Intel Core i7',\n",
    "    'AMD Ryzen 5 6600U': 'AMD Ryzen 5',\n",
    "    'INTEL Celeron': 'Intel Celeron',\n",
    "    'Intel Core Ultra 7 155H': 'Intel Core Ultra 7',\n",
    "    'Intel Core Ultra 5 135H': 'Intel Core Ultra 5',\n",
    "    'AMD Ryzen 5 7530U': 'AMD Ryzen 5',\n",
    "}\n",
    "df['text-xs'] = df['text-xs'].replace(replace_dict.keys(), replace_dict.values()).astype(str)\n",
    "df['text-xs'].dropna(inplace=True)\n",
    "df['processor'] = df['text-xs']\n",
    "df = df[(df['processor'] != \"AMD\") & (df['processor'] != \"INTEL™\") & (df['processor'] != \"Intel Ultra Serisi\")]"
   ],
   "id": "d0b073ac371caa0d",
   "outputs": [],
   "execution_count": 595
  },
  {
   "metadata": {
    "ExecuteTime": {
     "end_time": "2025-06-16T12:37:55.531029Z",
     "start_time": "2025-06-16T12:37:55.517589Z"
    }
   },
   "cell_type": "code",
   "source": "print(df[\"processor\"])",
   "id": "2fc4320891351970",
   "outputs": [
    {
     "name": "stdout",
     "output_type": "stream",
     "text": [
      "0      Intel Core i5\n",
      "1      Intel Core i5\n",
      "2        AMD Ryzen 7\n",
      "3        AMD Ryzen 7\n",
      "4      Intel Core i5\n",
      "           ...      \n",
      "344    Intel Core i7\n",
      "345      AMD Ryzen 7\n",
      "346      AMD Ryzen 7\n",
      "347    Intel Core i5\n",
      "348      AMD Ryzen 5\n",
      "Name: processor, Length: 315, dtype: object\n"
     ]
    }
   ],
   "execution_count": 596
  },
  {
   "metadata": {
    "ExecuteTime": {
     "end_time": "2025-06-16T12:37:55.562203Z",
     "start_time": "2025-06-16T12:37:55.547190Z"
    }
   },
   "cell_type": "code",
   "source": "print(df[\"processor\"].unique())",
   "id": "6ece03db107668de",
   "outputs": [
    {
     "name": "stdout",
     "output_type": "stream",
     "text": [
      "['Intel Core i5' 'AMD Ryzen 7' 'Intel Core i7' 'Intel Core Ultra 7'\n",
      " 'Intel Core Ultra 9' 'AMD Ryzen 9' 'Intel Core Ultra 5' 'AMD Ryzen 5'\n",
      " 'Intel Core i9' 'Intel Core i3' 'AMD Ryzen AI 9' 'AMD Ryzen 7 PRO'\n",
      " 'Intel Celeron']\n"
     ]
    }
   ],
   "execution_count": 597
  },
  {
   "metadata": {
    "ExecuteTime": {
     "end_time": "2025-06-16T12:37:55.598157Z",
     "start_time": "2025-06-16T12:37:55.582068Z"
    }
   },
   "cell_type": "code",
   "source": "print(df.info())",
   "id": "380c8098106a7740",
   "outputs": [
    {
     "name": "stdout",
     "output_type": "stream",
     "text": [
      "<class 'pandas.core.frame.DataFrame'>\n",
      "Index: 315 entries, 0 to 348\n",
      "Data columns (total 7 columns):\n",
      " #   Column     Non-Null Count  Dtype \n",
      "---  ------     --------------  ----- \n",
      " 0   text-xs    315 non-null    object\n",
      " 1   text-xs 2  315 non-null    object\n",
      " 2   text-xs 3  315 non-null    object\n",
      " 3   text-xs 4  315 non-null    object\n",
      " 4   text-2xl   217 non-null    object\n",
      " 5   brand      315 non-null    object\n",
      " 6   processor  315 non-null    object\n",
      "dtypes: object(7)\n",
      "memory usage: 19.7+ KB\n",
      "None\n"
     ]
    }
   ],
   "execution_count": 598
  },
  {
   "metadata": {
    "ExecuteTime": {
     "end_time": "2025-06-16T12:37:55.630077Z",
     "start_time": "2025-06-16T12:37:55.616450Z"
    }
   },
   "cell_type": "code",
   "source": "print(df['text-xs 2'].unique())",
   "id": "6522fe2117b3cd5",
   "outputs": [
    {
     "name": "stdout",
     "output_type": "stream",
     "text": [
      "['40 GB' '16 GB' '32 GB' '64 GB' '24 GB' '8 GB' '12 GB' '48 GB'\n",
      " '16 GB 1600 MHz' '16 GB LPDDR5-6400 MHz RAM' '96 GB'\n",
      " '16 GB DDR5-5600 MHz RAM (2 x 8 GB)' '4 GB' '8 GB 4800 Mhz']\n"
     ]
    }
   ],
   "execution_count": 599
  },
  {
   "metadata": {
    "ExecuteTime": {
     "end_time": "2025-06-16T12:37:55.664245Z",
     "start_time": "2025-06-16T12:37:55.650687Z"
    }
   },
   "cell_type": "code",
   "source": [
    "df['text-xs 2'].dropna(inplace=True)\n",
    "df['ram'] = df['text-xs 2'].apply(lambda x: x.split(\" \")[0]).astype(int)"
   ],
   "id": "cee40b7be4efa4c1",
   "outputs": [],
   "execution_count": 600
  },
  {
   "metadata": {
    "ExecuteTime": {
     "end_time": "2025-06-16T12:37:55.694991Z",
     "start_time": "2025-06-16T12:37:55.681993Z"
    }
   },
   "cell_type": "code",
   "source": "print(df['ram'].unique())",
   "id": "522aad83de149285",
   "outputs": [
    {
     "name": "stdout",
     "output_type": "stream",
     "text": [
      "[40 16 32 64 24  8 12 48 96  4]\n"
     ]
    }
   ],
   "execution_count": 601
  },
  {
   "metadata": {
    "ExecuteTime": {
     "end_time": "2025-06-16T12:37:55.731857Z",
     "start_time": "2025-06-16T12:37:55.716008Z"
    }
   },
   "cell_type": "code",
   "source": "print(df.info())",
   "id": "108ce819c44a3a94",
   "outputs": [
    {
     "name": "stdout",
     "output_type": "stream",
     "text": [
      "<class 'pandas.core.frame.DataFrame'>\n",
      "Index: 315 entries, 0 to 348\n",
      "Data columns (total 8 columns):\n",
      " #   Column     Non-Null Count  Dtype \n",
      "---  ------     --------------  ----- \n",
      " 0   text-xs    315 non-null    object\n",
      " 1   text-xs 2  315 non-null    object\n",
      " 2   text-xs 3  315 non-null    object\n",
      " 3   text-xs 4  315 non-null    object\n",
      " 4   text-2xl   217 non-null    object\n",
      " 5   brand      315 non-null    object\n",
      " 6   processor  315 non-null    object\n",
      " 7   ram        315 non-null    int64 \n",
      "dtypes: int64(1), object(7)\n",
      "memory usage: 22.1+ KB\n",
      "None\n"
     ]
    }
   ],
   "execution_count": 602
  },
  {
   "metadata": {
    "ExecuteTime": {
     "end_time": "2025-06-16T12:37:55.767196Z",
     "start_time": "2025-06-16T12:37:55.752643Z"
    }
   },
   "cell_type": "code",
   "source": "drop_columns(df, ['text-xs', 'text-xs 2'])",
   "id": "767a59fee02d6b66",
   "outputs": [],
   "execution_count": 603
  },
  {
   "metadata": {
    "ExecuteTime": {
     "end_time": "2025-06-16T12:37:55.799255Z",
     "start_time": "2025-06-16T12:37:55.785241Z"
    }
   },
   "cell_type": "code",
   "source": "print(df.info())",
   "id": "c06347c7bb4d81c3",
   "outputs": [
    {
     "name": "stdout",
     "output_type": "stream",
     "text": [
      "<class 'pandas.core.frame.DataFrame'>\n",
      "Index: 315 entries, 0 to 348\n",
      "Data columns (total 6 columns):\n",
      " #   Column     Non-Null Count  Dtype \n",
      "---  ------     --------------  ----- \n",
      " 0   text-xs 3  315 non-null    object\n",
      " 1   text-xs 4  315 non-null    object\n",
      " 2   text-2xl   217 non-null    object\n",
      " 3   brand      315 non-null    object\n",
      " 4   processor  315 non-null    object\n",
      " 5   ram        315 non-null    int64 \n",
      "dtypes: int64(1), object(5)\n",
      "memory usage: 17.2+ KB\n",
      "None\n"
     ]
    }
   ],
   "execution_count": 604
  },
  {
   "metadata": {
    "ExecuteTime": {
     "end_time": "2025-06-16T12:37:55.831339Z",
     "start_time": "2025-06-16T12:37:55.817327Z"
    }
   },
   "cell_type": "code",
   "source": "print(df['text-xs 3'].unique())",
   "id": "c445f3b347c23e1",
   "outputs": [
    {
     "name": "stdout",
     "output_type": "stream",
     "text": [
      "['Intel UHD Graphics' 'AMD Radeon Graphics' 'Nvidia GeForce RTX 4060'\n",
      " 'Nvidia GeForce RTX 4050' 'NVIDIA® GeForce RTX™ 5050'\n",
      " 'NVIDIA® GeForce RTX™ 5060' 'NVIDIA® GeForce RTX™ 5070'\n",
      " 'Nvidia GeForce RTX3050' 'RTX 5070 Ti' 'Intel® Arc™ Graphics'\n",
      " 'GeForce RTX 5090' 'Nvidia GeForce RTX 4070' 'NVIDIA GeForce RTX 4050'\n",
      " 'Intel Iris Xe Graphics' 'RTX 5080' 'Intel HD Graphics'\n",
      " 'Nvidia GeForce MX570' 'Intel® Arc Graphics' 'RTX3500 Ada'\n",
      " 'Intel Arc Graphics' 'AMD Radeon 740M' 'Intel® Iris® Xᵉ Grafik Kartı'\n",
      " 'AMD Radeon 660M Grafik Kartı' 'GeForce GTX 5070TI'\n",
      " 'Intel UHD Graphics 630' 'AMD Radeon™ 680M' 'Nvidia GeForce RTX 4090'\n",
      " 'GeForce MX500' 'Nvidia GeForce MX330' 'Nvidia GeForce RTX 3060'\n",
      " 'Nvidia GeForce RTX 3070' 'Intel® UHD Graphics' 'Radeon' 'NVIDIA'\n",
      " 'Intel Iris Xe Grafik Kartı']\n"
     ]
    }
   ],
   "execution_count": 605
  },
  {
   "metadata": {
    "ExecuteTime": {
     "end_time": "2025-06-16T12:37:55.876160Z",
     "start_time": "2025-06-16T12:37:55.861023Z"
    }
   },
   "cell_type": "code",
   "source": [
    "replace_dict = {\n",
    "    'RTX 5070 Ti': 'Nvidia GeForce RTX™ 5070TI',\n",
    "    'GeForce RTX 5090': 'Nvidia GeForce RTX™ 5090',\n",
    "    'NVIDIA GeForce RTX 4050': 'Nvidia GeForce RTX™ 4050',\n",
    "    'NVIDIA® GeForce RTX™ 5050': 'Nvidia GeForce RTX™ 5050',\n",
    "    'NVIDIA® GeForce RTX™ 5060': 'Nvidia GeForce RTX™ 5060',\n",
    "    'NVIDIA® GeForce RTX™ 5070': 'Nvidia GeForce RTX™ 5070',\n",
    "    'GeForce GTX 5070TI': 'Nvidia GeForce RTX™ 5070TI',\n",
    "    'Nvidia GeForce RTX 3070': 'Nvidia GeForce RTX™ 3070',\n",
    "    'GeForce MX500': 'Nvidia GeForce MX500',\n",
    "    'Nvidia GeForce RTX 4060': 'Nvidia GeForce RTX™ 4060',\n",
    "    'Nvidia GeForce RTX 4050': 'Nvidia GeForce RTX™ 4050',\n",
    "    'Nvidia GeForce RTX 3060': 'Nvidia GeForce RTX™ 3060',\n",
    "    'Nvidia GeForce RTX 4090': 'Nvidia GeForce RTX™ 4090',\n",
    "    'Nvidia GeForce RTX 4070': 'Nvidia GeForce RTX™ 4070',\n",
    "    'RTX 5080': 'Nvidia GeForce RTX™ 5080',\n",
    "    'Intel® Arc Graphics': 'Intel Arc Graphics',\n",
    "    'Intel® Arc™ Graphics': 'Intel Arc Graphics',\n",
    "    'Intel® Iris® Xᵉ Grafik Kartı': 'Intel Iris Xe Graphics',\n",
    "    'Intel Iris Xe Grafik Kartı': 'Intel Iris Xe Graphics',\n",
    "    'AMD Radeon™ 660M': 'AMD Radeon 660M',\n",
    "    'Intel® UHD Graphics': 'Intel UHD Graphics',\n",
    "    'Nvidia GeForce RTX3050': 'Nvidia GeForce RTX™ 3050',\n",
    "    'RTX3500 ': 'Nvidia RTX™ 3500 Ada',\n",
    "    'AMD Radeon 660M Grafik Kartı': 'AMD Radeon 660M Graphics',\n",
    "}\n",
    "\n",
    "df['text-xs 3'] = df['text-xs 3'].replace(replace_dict.keys(), replace_dict.values()).astype(str)\n",
    "df['text-xs 3'].dropna(inplace=True)\n",
    "df = df[(df['text-xs 3'] != \"NVIDIA\") & (df['text-xs 3'] != \"Radeon\") & (df['processor'] != \"Intel Ultra Serisi\")]\n",
    "df['video-card'] = df['text-xs 3']"
   ],
   "id": "f050e5b3e1a75b9d",
   "outputs": [],
   "execution_count": 606
  },
  {
   "metadata": {
    "ExecuteTime": {
     "end_time": "2025-06-16T12:37:55.909386Z",
     "start_time": "2025-06-16T12:37:55.895110Z"
    }
   },
   "cell_type": "code",
   "source": "print(df['video-card'].unique())",
   "id": "913702885e836cd4",
   "outputs": [
    {
     "name": "stdout",
     "output_type": "stream",
     "text": [
      "['Intel UHD Graphics' 'AMD Radeon Graphics' 'Nvidia GeForce RTX™ 4060'\n",
      " 'Nvidia GeForce RTX™ 4050' 'Nvidia GeForce RTX™ 5050'\n",
      " 'Nvidia GeForce RTX™ 5060' 'Nvidia GeForce RTX™ 5070'\n",
      " 'Nvidia GeForce RTX™ 3050' 'Nvidia GeForce RTX™ 5070TI'\n",
      " 'Intel Arc Graphics' 'Nvidia GeForce RTX™ 5090'\n",
      " 'Nvidia GeForce RTX™ 4070' 'Intel Iris Xe Graphics'\n",
      " 'Nvidia GeForce RTX™ 5080' 'Intel HD Graphics' 'Nvidia GeForce MX570'\n",
      " 'RTX3500 Ada' 'AMD Radeon 740M' 'AMD Radeon 660M Graphics'\n",
      " 'Intel UHD Graphics 630' 'AMD Radeon™ 680M' 'Nvidia GeForce RTX™ 4090'\n",
      " 'Nvidia GeForce MX500' 'Nvidia GeForce MX330' 'Nvidia GeForce RTX™ 3060'\n",
      " 'Nvidia GeForce RTX™ 3070']\n"
     ]
    }
   ],
   "execution_count": 607
  },
  {
   "metadata": {
    "ExecuteTime": {
     "end_time": "2025-06-16T12:37:55.939994Z",
     "start_time": "2025-06-16T12:37:55.925373Z"
    }
   },
   "cell_type": "code",
   "source": "drop_columns(df, ['text-xs 3'])\n",
   "id": "afccfa777a0ab22e",
   "outputs": [],
   "execution_count": 608
  },
  {
   "metadata": {
    "ExecuteTime": {
     "end_time": "2025-06-16T12:37:55.974967Z",
     "start_time": "2025-06-16T12:37:55.958010Z"
    }
   },
   "cell_type": "code",
   "source": "print(df['video-card'])",
   "id": "74b73391f8ecf1e2",
   "outputs": [
    {
     "name": "stdout",
     "output_type": "stream",
     "text": [
      "0            Intel UHD Graphics\n",
      "1            Intel UHD Graphics\n",
      "2           AMD Radeon Graphics\n",
      "3           AMD Radeon Graphics\n",
      "4      Nvidia GeForce RTX™ 4060\n",
      "                 ...           \n",
      "344    Nvidia GeForce RTX™ 4060\n",
      "345         AMD Radeon Graphics\n",
      "346         AMD Radeon Graphics\n",
      "347      Intel Iris Xe Graphics\n",
      "348    Nvidia GeForce RTX™ 3050\n",
      "Name: video-card, Length: 313, dtype: object\n"
     ]
    }
   ],
   "execution_count": 609
  },
  {
   "metadata": {
    "ExecuteTime": {
     "end_time": "2025-06-16T12:37:56.007501Z",
     "start_time": "2025-06-16T12:37:55.992490Z"
    }
   },
   "cell_type": "code",
   "source": "print(df['text-xs 4'].unique())",
   "id": "f78d30106b496879",
   "outputs": [
    {
     "name": "stdout",
     "output_type": "stream",
     "text": [
      "['1 TB' '512 GB SSD' '1TB SSD' '16 GB' '6 TB' '512 GB' '2TB SSD'\n",
      " '1 TB SSD' '2 TB' '4 TB' '256 GB SSD' '256 GB' 'Yok' '128 GB']\n"
     ]
    }
   ],
   "execution_count": 610
  },
  {
   "metadata": {
    "ExecuteTime": {
     "end_time": "2025-06-16T12:37:56.038553Z",
     "start_time": "2025-06-16T12:37:56.023517Z"
    }
   },
   "cell_type": "code",
   "source": [
    "replace_dict = {\n",
    "    '1 TB': '1024 GB',\n",
    "    '1TB': '1024 GB',\n",
    "    '1 TB SSD': '1024 GB',\n",
    "    '1TB SSD': '1024 GB',\n",
    "    '2 TB': '2048 GB',\n",
    "    '2TB SSD': '2048 GB',\n",
    "    '4 TB': '4096 GB',\n",
    "    '6 TB': '6144 GB',\n",
    "}\n",
    "df['text-xs 4'] = df['text-xs 4'].replace(replace_dict.keys(), replace_dict.values()).astype(str)\n",
    "df['memory'] = df['text-xs 4']\n",
    "df = df[(df['memory'] != \"Yok\")]"
   ],
   "id": "62c42c9a6ef40ae9",
   "outputs": [],
   "execution_count": 611
  },
  {
   "metadata": {
    "ExecuteTime": {
     "end_time": "2025-06-16T12:37:56.082724Z",
     "start_time": "2025-06-16T12:37:56.055808Z"
    }
   },
   "cell_type": "code",
   "source": "print(df['memory'].unique())",
   "id": "d489e39527d96181",
   "outputs": [
    {
     "name": "stdout",
     "output_type": "stream",
     "text": [
      "['1024 GB' '512 GB SSD' '16 GB' '6144 GB' '512 GB' '2048 GB' '4096 GB'\n",
      " '256 GB SSD' '256 GB' '128 GB']\n"
     ]
    }
   ],
   "execution_count": 612
  },
  {
   "metadata": {
    "ExecuteTime": {
     "end_time": "2025-06-16T12:37:56.134243Z",
     "start_time": "2025-06-16T12:37:56.117557Z"
    }
   },
   "cell_type": "code",
   "source": "df['memory'] = df['text-xs 4'].apply(lambda x: x.split(' ')[0]).astype(int)",
   "id": "d6c5b2772744202c",
   "outputs": [],
   "execution_count": 613
  },
  {
   "metadata": {
    "ExecuteTime": {
     "end_time": "2025-06-16T12:37:56.164384Z",
     "start_time": "2025-06-16T12:37:56.150035Z"
    }
   },
   "cell_type": "code",
   "source": "print(df['memory'].unique())",
   "id": "c5cef2cbb8db6bdc",
   "outputs": [
    {
     "name": "stdout",
     "output_type": "stream",
     "text": [
      "[1024  512   16 6144 2048 4096  256  128]\n"
     ]
    }
   ],
   "execution_count": 614
  },
  {
   "metadata": {
    "ExecuteTime": {
     "end_time": "2025-06-16T12:37:56.195167Z",
     "start_time": "2025-06-16T12:37:56.181165Z"
    }
   },
   "cell_type": "code",
   "source": "print(df['text-2xl'].unique())",
   "id": "f6390afcd34e1930",
   "outputs": [
    {
     "name": "stdout",
     "output_type": "stream",
     "text": [
      "['18.599 TL' '24.009 TL' '19.799 TL' '17.649 TL' '37.449 TL' '38.699 TL'\n",
      " '41.189 TL' '38.649 TL' '17.999 TL' '36.799 TL' '42.999 TL' '56.339 TL'\n",
      " '16.749 TL' '58.729 TL' '64.149 TL' '68.399 TL' '82.069 TL' '37.259 TL'\n",
      " '133.639 TL' '23.999 TL' '47.119 TL' '324.599 TL' '91.859 TL'\n",
      " '151.499 TL' '41.039 TL' '40.089 TL' '39.569 TL' '39.059 TL' '37.739 TL'\n",
      " '36.789 TL' '25.799 TL' '26.399 TL' '23.899 TL' '24.599 TL' '25.549 TL'\n",
      " '24.499 TL' '44.999 TL' '42.409 TL' '29.389 TL' '30.659 TL' '31.839 TL'\n",
      " '30.419 TL' '43.749 TL' '42.449 TL' '33.899 TL' '36.559 TL' '24.479 TL'\n",
      " '16.499 TL' '15.399 TL' '32.029 TL' '39.499 TL' '40.819 TL' '29.719 TL'\n",
      " '26.269 TL' '20.399 TL' '19.349 TL' '24.759 TL' '19.249 TL' '18.249 TL'\n",
      " '24.149 TL' '18.699 TL' '24.429 TL' '20.999 TL' '23.249 TL' '19.499 TL'\n",
      " '22.309 TL' '30.609 TL' '29.479 TL' '29.059 TL' '25.649 TL' '24.649 TL'\n",
      " '22.999 TL' '23.449 TL' '25.929 TL' '26.359 TL' '26.779 TL' '19.599 TL'\n",
      " '18.999 TL' '18.499 TL' '22.759 TL' '28.249 TL' '25.939 TL' '19.999 TL'\n",
      " '19.099 TL' '40.509 TL' '13.599 TL' '21.789 TL' '20.589 TL' '21.419 TL'\n",
      " '20.079 TL' '20.689 TL' '16.999 TL' '62.399 TL' '32.969 TL' '22.499 TL'\n",
      " '30.139 TL' '21.349 TL' '29.009 TL' '37.219 TL' '26.699 TL' '27.649 TL'\n",
      " '25.699 TL' '33.249 TL' '24.999 TL' '17.299 TL' '17.799 TL' '16.299 TL'\n",
      " '19.849 TL' '18.849 TL' '17.349 TL' '18.199 TL' '18.649 TL' '39.899 TL'\n",
      " '37.199 TL' '35.899 TL' '46.649 TL' '29.049 TL' '29.199 TL' '33.999 TL'\n",
      " '181.199 TL' '240.039 TL' '235.319 TL' '173.999 TL' '245.899 TL'\n",
      " '287.799 TL' '42.919 TL' '48.819 TL' '58.169 TL' '44.289 TL' '43.729 TL'\n",
      " '36.899 TL' '39.469 TL' '36.269 TL' '34.859 TL' '28.539 TL' '34.299 TL'\n",
      " '37.969 TL' '16.789 TL' '22.899 TL' '17.699 TL' '33.109 TL' '19.339 TL'\n",
      " '22.829 TL' '45.229 TL' '84.409 TL' '19.699 TL' '39.179 TL' '23.349 TL'\n",
      " '16.039 TL' '39.219 TL' '17.599 TL' '213.499 TL' '81.429 TL' '49.939 TL'\n",
      " '39.669 TL' '65.489 TL' '30.039 TL' '47.069 TL' '71.739 TL' '59.529 TL'\n",
      " '55.749 TL' '81.889 TL' '25.199 TL' '69.509 TL' '30.389 TL' '36.689 TL'\n",
      " '104.019 TL' '34.429 TL' '89.569 TL' '37.849 TL' '70.709 TL' '66.039 TL'\n",
      " '87.729 TL' '51.139 TL' '49.289 TL' '51.269 TL' '37.779 TL' '54.619 TL'\n",
      " '40.759 TL' '53.459 TL' '84.899 TL' '55.029 TL' '53.979 TL' '49.649 TL'\n",
      " '54.939 TL' '74.969 TL' nan]\n"
     ]
    }
   ],
   "execution_count": 615
  },
  {
   "metadata": {
    "ExecuteTime": {
     "end_time": "2025-06-16T12:37:56.236853Z",
     "start_time": "2025-06-16T12:37:56.216352Z"
    }
   },
   "cell_type": "code",
   "source": [
    "df = df.dropna()\n",
    "df['text-2xl'] = df['text-2xl'].apply(lambda x: x.replace('.', ''))\n",
    "df['price'] = df['text-2xl'].apply(lambda x: x.split(' ')[0]).astype(int)"
   ],
   "id": "1297d8832d4d37cd",
   "outputs": [],
   "execution_count": 616
  },
  {
   "metadata": {
    "ExecuteTime": {
     "end_time": "2025-06-16T12:37:56.279147Z",
     "start_time": "2025-06-16T12:37:56.265213Z"
    }
   },
   "cell_type": "code",
   "source": "print(df['price'].unique())",
   "id": "4ab4404f8d5a97cb",
   "outputs": [
    {
     "name": "stdout",
     "output_type": "stream",
     "text": [
      "[ 18599  24009  19799  17649  37449  38699  41189  38649  17999  36799\n",
      "  42999  56339  16749  58729  64149  68399  82069  37259 133639  23999\n",
      "  47119 324599  91859 151499  41039  40089  39569  39059  37739  36789\n",
      "  25799  26399  23899  24599  25549  24499  44999  42409  29389  30659\n",
      "  31839  30419  43749  42449  33899  36559  24479  16499  15399  32029\n",
      "  39499  40819  29719  26269  20399  19349  24759  19249  18249  24149\n",
      "  18699  24429  20999  23249  19499  22309  30609  29479  29059  25649\n",
      "  24649  22999  23449  25929  26359  26779  19599  18999  18499  22759\n",
      "  28249  25939  19999  19099  40509  13599  21789  20589  21419  20079\n",
      "  20689  16999  62399  32969  22499  30139  21349  29009  37219  26699\n",
      "  27649  25699  33249  24999  17299  17799  16299  19849  18849  17349\n",
      "  18199  18649  39899  37199  35899  46649  29049  29199  33999 181199\n",
      " 240039 235319 173999 245899 287799  42919  48819  58169  44289  43729\n",
      "  36899  39469  36269  34859  28539  34299  37969  16789  22899  17699\n",
      "  33109  19339  22829  45229  84409  19699  39179  23349  16039  39219\n",
      "  17599 213499  81429  49939  39669  65489  30039  47069  71739  59529\n",
      "  55749  81889  25199  69509  30389  36689 104019  34429  89569  37849\n",
      "  70709  66039  87729  51139  49289  51269  37779  54619  40759  53459\n",
      "  84899  55029  53979  49649  54939  74969]\n"
     ]
    }
   ],
   "execution_count": 617
  },
  {
   "metadata": {
    "ExecuteTime": {
     "end_time": "2025-06-16T12:37:56.310568Z",
     "start_time": "2025-06-16T12:37:56.297146Z"
    }
   },
   "cell_type": "code",
   "source": "print(df.info())",
   "id": "1a5e662f8a16631b",
   "outputs": [
    {
     "name": "stdout",
     "output_type": "stream",
     "text": [
      "<class 'pandas.core.frame.DataFrame'>\n",
      "Index: 217 entries, 0 to 240\n",
      "Data columns (total 8 columns):\n",
      " #   Column      Non-Null Count  Dtype \n",
      "---  ------      --------------  ----- \n",
      " 0   text-xs 4   217 non-null    object\n",
      " 1   text-2xl    217 non-null    object\n",
      " 2   brand       217 non-null    object\n",
      " 3   processor   217 non-null    object\n",
      " 4   ram         217 non-null    int64 \n",
      " 5   video-card  217 non-null    object\n",
      " 6   memory      217 non-null    int64 \n",
      " 7   price       217 non-null    int64 \n",
      "dtypes: int64(3), object(5)\n",
      "memory usage: 15.3+ KB\n",
      "None\n"
     ]
    }
   ],
   "execution_count": 618
  },
  {
   "metadata": {
    "ExecuteTime": {
     "end_time": "2025-06-16T12:37:56.335899Z",
     "start_time": "2025-06-16T12:37:56.328566Z"
    }
   },
   "cell_type": "code",
   "source": "drop_columns(df, [\"text-xs 4\", \"text-2xl\"])",
   "id": "4986c9601b8587df",
   "outputs": [],
   "execution_count": 619
  },
  {
   "metadata": {
    "ExecuteTime": {
     "end_time": "2025-06-16T12:37:56.359699Z",
     "start_time": "2025-06-16T12:37:56.348984Z"
    }
   },
   "cell_type": "code",
   "source": "print(df.info())",
   "id": "87f3335560e28437",
   "outputs": [
    {
     "name": "stdout",
     "output_type": "stream",
     "text": [
      "<class 'pandas.core.frame.DataFrame'>\n",
      "Index: 217 entries, 0 to 240\n",
      "Data columns (total 6 columns):\n",
      " #   Column      Non-Null Count  Dtype \n",
      "---  ------      --------------  ----- \n",
      " 0   brand       217 non-null    object\n",
      " 1   processor   217 non-null    object\n",
      " 2   ram         217 non-null    int64 \n",
      " 3   video-card  217 non-null    object\n",
      " 4   memory      217 non-null    int64 \n",
      " 5   price       217 non-null    int64 \n",
      "dtypes: int64(3), object(3)\n",
      "memory usage: 11.9+ KB\n",
      "None\n"
     ]
    }
   ],
   "execution_count": 620
  },
  {
   "metadata": {
    "ExecuteTime": {
     "end_time": "2025-06-16T12:37:56.395208Z",
     "start_time": "2025-06-16T12:37:56.381173Z"
    }
   },
   "cell_type": "code",
   "source": "df.to_csv(\"data.csv\", index=False)",
   "id": "1fc2a8f031ecd9ba",
   "outputs": [],
   "execution_count": 621
  }
 ],
 "metadata": {
  "kernelspec": {
   "display_name": "Python 3",
   "language": "python",
   "name": "python3"
  },
  "language_info": {
   "codemirror_mode": {
    "name": "ipython",
    "version": 2
   },
   "file_extension": ".py",
   "mimetype": "text/x-python",
   "name": "python",
   "nbconvert_exporter": "python",
   "pygments_lexer": "ipython2",
   "version": "2.7.6"
  }
 },
 "nbformat": 4,
 "nbformat_minor": 5
}
