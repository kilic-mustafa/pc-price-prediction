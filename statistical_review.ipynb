{
 "cells": [
  {
   "metadata": {},
   "cell_type": "markdown",
   "source": "# Statistical analysis of the data and removal of outliers.\"",
   "id": "c7e6f8c5b0f1c2e5"
  },
  {
   "metadata": {
    "ExecuteTime": {
     "end_time": "2025-06-16T12:38:01.315827Z",
     "start_time": "2025-06-16T12:38:01.300097Z"
    }
   },
   "cell_type": "code",
   "source": [
    "import numpy as np\n",
    "import pandas as pd"
   ],
   "id": "6b8e08d4775ab54a",
   "outputs": [],
   "execution_count": 11
  },
  {
   "metadata": {},
   "cell_type": "markdown",
   "source": "### Uploading the data",
   "id": "b952603bab67b52c"
  },
  {
   "metadata": {
    "ExecuteTime": {
     "end_time": "2025-06-16T12:38:01.363282Z",
     "start_time": "2025-06-16T12:38:01.349495Z"
    }
   },
   "cell_type": "code",
   "source": "df = pd.read_csv(\"data.csv\")",
   "id": "489da0ecdcd05dd3",
   "outputs": [],
   "execution_count": 12
  },
  {
   "metadata": {
    "ExecuteTime": {
     "end_time": "2025-06-16T12:38:01.394886Z",
     "start_time": "2025-06-16T12:38:01.381102Z"
    }
   },
   "cell_type": "code",
   "source": "print(df.info())",
   "id": "6e65b87da1c699be",
   "outputs": [
    {
     "name": "stdout",
     "output_type": "stream",
     "text": [
      "<class 'pandas.core.frame.DataFrame'>\n",
      "RangeIndex: 217 entries, 0 to 216\n",
      "Data columns (total 6 columns):\n",
      " #   Column      Non-Null Count  Dtype \n",
      "---  ------      --------------  ----- \n",
      " 0   brand       217 non-null    object\n",
      " 1   processor   217 non-null    object\n",
      " 2   ram         217 non-null    int64 \n",
      " 3   video-card  217 non-null    object\n",
      " 4   memory      217 non-null    int64 \n",
      " 5   price       217 non-null    int64 \n",
      "dtypes: int64(3), object(3)\n",
      "memory usage: 10.3+ KB\n",
      "None\n"
     ]
    }
   ],
   "execution_count": 13
  },
  {
   "metadata": {
    "ExecuteTime": {
     "end_time": "2025-06-16T12:38:01.426479Z",
     "start_time": "2025-06-16T12:38:01.410531Z"
    }
   },
   "cell_type": "code",
   "source": [
    "df[\"brand\"] = df[\"brand\"].astype(\"category\")\n",
    "df[\"processor\"] = df[\"processor\"].astype(\"category\")\n",
    "df[\"video-card\"] = df[\"video-card\"].astype(\"category\")\n",
    "df[\"ram\"] = df[\"ram\"].astype(\"int\")\n",
    "df[\"memory\"] = df[\"memory\"].astype(\"int\")\n",
    "df[\"price\"] = df[\"price\"].astype(\"int\")"
   ],
   "id": "1536568d8d4d2e26",
   "outputs": [],
   "execution_count": 14
  },
  {
   "metadata": {
    "ExecuteTime": {
     "end_time": "2025-06-16T12:38:01.458022Z",
     "start_time": "2025-06-16T12:38:01.442265Z"
    }
   },
   "cell_type": "code",
   "source": "print(df.info())",
   "id": "fb32c828c8d7486e",
   "outputs": [
    {
     "name": "stdout",
     "output_type": "stream",
     "text": [
      "<class 'pandas.core.frame.DataFrame'>\n",
      "RangeIndex: 217 entries, 0 to 216\n",
      "Data columns (total 6 columns):\n",
      " #   Column      Non-Null Count  Dtype   \n",
      "---  ------      --------------  -----   \n",
      " 0   brand       217 non-null    category\n",
      " 1   processor   217 non-null    category\n",
      " 2   ram         217 non-null    int64   \n",
      " 3   video-card  217 non-null    category\n",
      " 4   memory      217 non-null    int64   \n",
      " 5   price       217 non-null    int64   \n",
      "dtypes: category(3), int64(3)\n",
      "memory usage: 7.1 KB\n",
      "None\n"
     ]
    }
   ],
   "execution_count": 15
  },
  {
   "metadata": {},
   "cell_type": "markdown",
   "source": "### Finding min, max and quartile values of numeric parameters",
   "id": "ddc5c0be3717d367"
  },
  {
   "metadata": {
    "ExecuteTime": {
     "end_time": "2025-06-16T12:38:01.505800Z",
     "start_time": "2025-06-16T12:38:01.489963Z"
    }
   },
   "cell_type": "code",
   "source": [
    "columns = df.select_dtypes(include=[np.number]).columns\n",
    "min_values = []\n",
    "max_values = []\n",
    "for column in columns:\n",
    "    Q1 = df[column].quantile(0.25)\n",
    "    Q3 = df[column].quantile(0.75)\n",
    "    IQR = Q3 - Q1\n",
    "    min_value = Q1 - 1.5 * IQR\n",
    "    max_value = Q3 + 1.5 * IQR\n",
    "    min_values.append(min_value)\n",
    "    max_values.append(max_value)\n",
    "    print(f\"Column: {column}, min: {min_value}, max: {max_value}\")"
   ],
   "id": "205f7277cba7bfaa",
   "outputs": [
    {
     "name": "stdout",
     "output_type": "stream",
     "text": [
      "Column: ram, min: -8.0, max: 56.0\n",
      "Column: memory, min: -256.0, max: 1792.0\n",
      "Column: price, min: -8251.0, max: 73749.0\n"
     ]
    }
   ],
   "execution_count": 16
  },
  {
   "metadata": {},
   "cell_type": "markdown",
   "source": "### Cleaning the outliers",
   "id": "2934efabbbca9206"
  },
  {
   "metadata": {
    "ExecuteTime": {
     "end_time": "2025-06-16T12:38:01.546441Z",
     "start_time": "2025-06-16T12:38:01.537506Z"
    }
   },
   "cell_type": "code",
   "source": [
    "for i, column in enumerate(columns):\n",
    "    df = df[(df[column] >= min_values[i]) & (df[column] <= max_values[i])]"
   ],
   "id": "a38a0f58a7a8967d",
   "outputs": [],
   "execution_count": 17
  },
  {
   "metadata": {
    "ExecuteTime": {
     "end_time": "2025-06-16T12:38:01.578202Z",
     "start_time": "2025-06-16T12:38:01.562238Z"
    }
   },
   "cell_type": "code",
   "source": "print(df.info())",
   "id": "24bc924b1186f3a9",
   "outputs": [
    {
     "name": "stdout",
     "output_type": "stream",
     "text": [
      "<class 'pandas.core.frame.DataFrame'>\n",
      "Index: 174 entries, 0 to 215\n",
      "Data columns (total 6 columns):\n",
      " #   Column      Non-Null Count  Dtype   \n",
      "---  ------      --------------  -----   \n",
      " 0   brand       174 non-null    category\n",
      " 1   processor   174 non-null    category\n",
      " 2   ram         174 non-null    int64   \n",
      " 3   video-card  174 non-null    category\n",
      " 4   memory      174 non-null    int64   \n",
      " 5   price       174 non-null    int64   \n",
      "dtypes: category(3), int64(3)\n",
      "memory usage: 7.2 KB\n",
      "None\n"
     ]
    }
   ],
   "execution_count": 18
  },
  {
   "metadata": {
    "ExecuteTime": {
     "end_time": "2025-06-16T12:38:01.612680Z",
     "start_time": "2025-06-16T12:38:01.596935Z"
    }
   },
   "cell_type": "code",
   "source": "print(df.describe())",
   "id": "945671f0be06144a",
   "outputs": [
    {
     "name": "stdout",
     "output_type": "stream",
     "text": [
      "              ram       memory         price\n",
      "count  174.000000   174.000000    174.000000\n",
      "mean    20.367816   697.379310  32517.850575\n",
      "std     10.152724   260.225835  14111.228172\n",
      "min      8.000000   256.000000  13599.000000\n",
      "25%     16.000000   512.000000  20019.000000\n",
      "50%     16.000000   512.000000  29124.000000\n",
      "75%     24.000000  1024.000000  39984.000000\n",
      "max     48.000000  1024.000000  71739.000000\n"
     ]
    }
   ],
   "execution_count": 19
  },
  {
   "metadata": {
    "ExecuteTime": {
     "end_time": "2025-06-16T12:38:01.738617Z",
     "start_time": "2025-06-16T12:38:01.722869Z"
    }
   },
   "cell_type": "code",
   "source": "df.to_csv('data_cleaned.csv', index=False)",
   "id": "231e28ee30259d61",
   "outputs": [],
   "execution_count": 20
  }
 ],
 "metadata": {
  "kernelspec": {
   "display_name": "Python 3",
   "language": "python",
   "name": "python3"
  },
  "language_info": {
   "codemirror_mode": {
    "name": "ipython",
    "version": 2
   },
   "file_extension": ".py",
   "mimetype": "text/x-python",
   "name": "python",
   "nbconvert_exporter": "python",
   "pygments_lexer": "ipython2",
   "version": "2.7.6"
  }
 },
 "nbformat": 4,
 "nbformat_minor": 5
}
